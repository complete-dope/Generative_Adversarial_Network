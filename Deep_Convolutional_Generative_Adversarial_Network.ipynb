{
  "cells": [
    {
      "cell_type": "markdown",
      "metadata": {
        "id": "kWdBytJQptXm"
      },
      "source": [
        "## Imports"
      ]
    },
    {
      "cell_type": "code",
      "execution_count": 1,
      "metadata": {
        "id": "iCmeak_r-LmT"
      },
      "outputs": [],
      "source": [
        "import torch\n",
        "import torch.nn as nn\n",
        "import torchvision\n",
        "from torchvision.transforms import ToTensor\n",
        "from torchvision import transforms\n",
        "import matplotlib.pyplot as plt\n"
      ]
    },
    {
      "cell_type": "markdown",
      "metadata": {
        "id": "PJB4SHRrfCCZ"
      },
      "source": [
        "## Data "
      ]
    },
    {
      "cell_type": "code",
      "execution_count": 2,
      "metadata": {
        "id": "4f4pUkAlRaAo"
      },
      "outputs": [],
      "source": [
        "!mkdir cifar_data"
      ]
    },
    {
      "cell_type": "code",
      "execution_count": 3,
      "metadata": {
        "colab": {
          "base_uri": "https://localhost:8080/",
          "height": 84,
          "referenced_widgets": [
            "641d639a099f46cda2c817463e4132cf",
            "ebd1f1a99da54c3aa9c8c66b8ead4bcc",
            "b16a69db6df14cd3aaf246446dca5dca",
            "dc630f8d0ac8474396e48da05d135ce1",
            "19adecfe171f4941b5e962cb498ca5ad",
            "bd629b3e277643989126276c0ac0d3dd",
            "a13bf17c0e884dba876cca696fcc0cd0",
            "79242dffa3954b41861fd57b0f3e1a44",
            "1a2e08fc50384f118930a4d7882ef1da",
            "93a6e9dcd10e4a4e931fd003d9490951",
            "a7c41b1b98604e68b2753a84e7924fce"
          ]
        },
        "id": "KOB8EoZAfYRe",
        "outputId": "a63b35df-373c-4fec-c807-149450d6a1a3"
      },
      "outputs": [
        {
          "name": "stdout",
          "output_type": "stream",
          "text": [
            "Downloading https://www.cs.toronto.edu/~kriz/cifar-10-python.tar.gz to /content/cifar_data/cifar-10-python.tar.gz\n"
          ]
        },
        {
          "data": {
            "application/vnd.jupyter.widget-view+json": {
              "model_id": "641d639a099f46cda2c817463e4132cf",
              "version_major": 2,
              "version_minor": 0
            },
            "text/plain": [
              "  0%|          | 0/170498071 [00:00<?, ?it/s]"
            ]
          },
          "metadata": {},
          "output_type": "display_data"
        },
        {
          "name": "stdout",
          "output_type": "stream",
          "text": [
            "Extracting /content/cifar_data/cifar-10-python.tar.gz to /content/cifar_data\n"
          ]
        }
      ],
      "source": [
        "img_size = 64\n",
        "dataset = torchvision.datasets.CIFAR10(root ='/content/cifar_data' ,\n",
        "                                   download = True , \n",
        "                                   transform = transforms.Compose([\n",
        "                                      transforms.Resize(img_size),\n",
        "                                      transforms.CenterCrop(img_size),\n",
        "                                      transforms.ToTensor(),\n",
        "                                      transforms.Normalize(mean = (0.5 , 0.5 , 0.5) , std = (0.5 , 0.5 , 0.5))\n",
        "                                   ]))\n"
      ]
    },
    {
      "cell_type": "code",
      "execution_count": 4,
      "metadata": {
        "colab": {
          "base_uri": "https://localhost:8080/"
        },
        "id": "5yf1nf1wpoyg",
        "outputId": "5c591e82-02c8-4501-be14-164227f6e6b8"
      },
      "outputs": [
        {
          "data": {
            "text/plain": [
              "torch.Size([3, 64, 64])"
            ]
          },
          "execution_count": 4,
          "metadata": {},
          "output_type": "execute_result"
        }
      ],
      "source": [
        "img , label = dataset[1]\n",
        "img.shape"
      ]
    },
    {
      "cell_type": "code",
      "execution_count": 5,
      "metadata": {
        "colab": {
          "base_uri": "https://localhost:8080/",
          "height": 285
        },
        "id": "r-yStLmHgynW",
        "outputId": "33c9f506-4993-46bd-8153-2e23b7e61a4d"
      },
      "outputs": [
        {
          "name": "stderr",
          "output_type": "stream",
          "text": [
            "WARNING:matplotlib.image:Clipping input data to the valid range for imshow with RGB data ([0..1] for floats or [0..255] for integers).\n"
          ]
        },
        {
          "data": {
            "image/png": "[encoded data removed]",
            "text/plain": [
              "<Figure size 432x288 with 1 Axes>"
            ]
          },
          "metadata": {
            "needs_background": "light"
          },
          "output_type": "display_data"
        }
      ],
      "source": [
        "act_img = plt.imshow(img.permute(1,2,0))\n"
      ]
    },
    {
      "cell_type": "code",
      "execution_count": 6,
      "metadata": {
        "id": "GjkHYaXgfEWx"
      },
      "outputs": [],
      "source": [
        "# data loader \n",
        "data_loader = torch.utils.data.DataLoader(dataset ,\n",
        "                                          batch_size = 128,\n",
        "                                          shuffle = True)"
      ]
    },
    {
      "cell_type": "markdown",
      "metadata": {
        "id": "NegaJTJsGJr8"
      },
      "source": [
        "![picture](https://drive.google.com/uc?id=1rBKzUCtwQPPLh_F6DVJBDTfkwlUEHugo)"
      ]
    },
    {
      "cell_type": "markdown",
      "metadata": {
        "id": "kbqxd9yJwaJj"
      },
      "source": [
        "## Generator"
      ]
    },
    {
      "cell_type": "markdown",
      "metadata": {
        "id": "nKAjQ3jWGeWU"
      },
      "source": [
        "![picture](https://drive.google.com/uc?id=1VjNhtF88Lq2MNE4y3vuhMlWEJJm9dKtY)"
      ]
    },
    {
      "cell_type": "code",
      "execution_count": 7,
      "metadata": {
        "id": "U80uhP1Yawak"
      },
      "outputs": [],
      "source": [
        "class Generator(nn.Module):\n",
        "  def __init__(self , in_channel , out_channel):\n",
        "    super().__init__()\n",
        "    self.model2 =  nn.Sequential(\n",
        "        # Bt_size x C x H xW --> [128 , 100 , 1 , 1]\n",
        "        nn.ConvTranspose2d(in_channels = in_channel , out_channels = out_channel , kernel_size = 4 , padding =0 , stride = 1 , bias = False),\n",
        "        nn.BatchNorm2d(num_features = out_channel),\n",
        "        nn.ReLU(),\n",
        "        # [128, 1024 ,4,4] --> 128 is the batch size\n",
        "        nn.ConvTranspose2d(in_channels = out_channel , out_channels = int(out_channel/2) , kernel_size = 4 , padding = 1,stride = 2,bias = False),\n",
        "        nn.BatchNorm2d(num_features = int(out_channel/2)),\n",
        "        nn.ReLU(),\n",
        "        nn.ConvTranspose2d(in_channels = int(out_channel/2) , out_channels = int(out_channel/4) , kernel_size = 4 , padding = 1,stride = 2,bias = False),\n",
        "        nn.BatchNorm2d(num_features = int(out_channel/4)),\n",
        "        nn.ReLU(),\n",
        "        nn.ConvTranspose2d(in_channels = int(out_channel/4), out_channels = int(out_channel/8) , kernel_size = 4 , padding = 1,stride = 2,bias = False),\n",
        "        nn.BatchNorm2d(num_features =  int(out_channel/8)) ,\n",
        "        nn.ReLU(),\n",
        "        nn.ConvTranspose2d(in_channels =  int(out_channel/8)  , out_channels =3, kernel_size = 4 , padding = 1,stride = 2,bias = False),\n",
        "        nn.Tanh()\n",
        "    )\n",
        "    self.weights_init()\n",
        "\n",
        "  def forward(self , x):\n",
        "    x2 = self.model2(x)\n",
        "    return x2\n",
        "\n",
        "  def weights_init(self):\n",
        "    for m in self.modules():\n",
        "      if isinstance(m , nn.ConvTranspose2d):\n",
        "        torch.nn.init.normal_(m.weight , mean = 0 , std = 0.02)\n",
        "      elif isinstance(m , nn.BatchNorm2d):\n",
        "        torch.nn.init.normal_(m.weight , 0 , 0.02)\n",
        "        torch.nn.init.constant_(m.bias , 0)\n",
        "\n"
      ]
    },
    {
      "cell_type": "code",
      "execution_count": 8,
      "metadata": {
        "id": "lBLFfHCQkU46"
      },
      "outputs": [],
      "source": [
        "mdl = Generator(100, 1024)"
      ]
    },
    {
      "cell_type": "markdown",
      "metadata": {
        "id": "LmFeMxd2pfuI"
      },
      "source": [
        "## hide me"
      ]
    },
    {
      "cell_type": "code",
      "execution_count": 9,
      "metadata": {
        "colab": {
          "base_uri": "https://localhost:8080/"
        },
        "id": "uFS77bNhs0-d",
        "outputId": "2404f563-97f6-44d5-8768-aae0d142701e"
      },
      "outputs": [
        {
          "name": "stdout",
          "output_type": "stream",
          "text": [
            "torch.Size([100, 1, 1])\n"
          ]
        }
      ],
      "source": [
        "input = torch.rand(size = (100,1,1))\n",
        "\n",
        "print(input.shape)"
      ]
    },
    {
      "cell_type": "code",
      "execution_count": 13,
      "metadata": {
        "colab": {
          "base_uri": "https://localhost:8080/"
        },
        "id": "1Mm4sENVMEfe",
        "outputId": "442bd866-64f9-4702-d765-d1f27c04fe21"
      },
      "outputs": [
        {
          "name": "stdout",
          "output_type": "stream",
          "text": [
            "torch.Size([1, 100, 1, 1])\n"
          ]
        }
      ],
      "source": [
        "print((input.unsqueeze(dim = 0)).shape)\n"
      ]
    },
    {
      "cell_type": "code",
      "execution_count": 14,
      "metadata": {
        "id": "OBUoiE4-dbEA"
      },
      "outputs": [],
      "source": [
        "gen_layer = Generator(in_channel = 100 ,out_channel = 1024)\n",
        "output_from_gen = gen_layer(input.unsqueeze(dim = 0))"
      ]
    },
    {
      "cell_type": "code",
      "execution_count": 15,
      "metadata": {
        "colab": {
          "base_uri": "https://localhost:8080/"
        },
        "id": "GFsSzR9fnxhB",
        "outputId": "ed77667d-e68d-4640-ef88-126408209629"
      },
      "outputs": [
        {
          "data": {
            "text/plain": [
              "torch.Size([1, 3, 64, 64])"
            ]
          },
          "execution_count": 15,
          "metadata": {},
          "output_type": "execute_result"
        }
      ],
      "source": [
        "output_from_gen.shape"
      ]
    },
    {
      "cell_type": "markdown",
      "metadata": {
        "id": "lm5MArqokmS2"
      },
      "source": [
        "## Discriminator"
      ]
    },
    {
      "cell_type": "code",
      "execution_count": 16,
      "metadata": {
        "id": "zOe6ak3yknSt"
      },
      "outputs": [],
      "source": [
        "class Discriminator(nn.Module):\n",
        "  def __init__(self , nc , ndf):\n",
        "    super().__init__()\n",
        "    self.model1 = nn.Sequential(\n",
        "        # 3x64x64\n",
        "        nn.Conv2d(nc, ndf, 4, 2, 1, bias=False),\n",
        "        nn.LeakyReLU(0.2, inplace=True),\n",
        "        # state size. (ndf) x 32 x 32\n",
        "        nn.Conv2d(ndf, ndf * 2, 4, 2, 1, bias=False),\n",
        "        nn.BatchNorm2d(ndf * 2),\n",
        "        nn.LeakyReLU(0.2, inplace=True),\n",
        "        # state size. (ndf*2) x 16 x 16\n",
        "        nn.Conv2d(ndf * 2, ndf * 4, 4, 2, 1, bias=False),\n",
        "        nn.BatchNorm2d(ndf * 4),\n",
        "        nn.LeakyReLU(0.2, inplace=True),\n",
        "        # state size. (ndf*4) x 8 x 8\n",
        "        nn.Conv2d(ndf * 4, ndf * 8, 4, 2, 1, bias=False),\n",
        "        nn.BatchNorm2d(ndf * 8),\n",
        "        nn.LeakyReLU(0.2, inplace=True),\n",
        "        # state size. (ndf*8) x 4 x 4\n",
        "        nn.Conv2d(ndf * 8, 1, 4, 1, 0, bias=False),\n",
        "        nn.Sigmoid()\n",
        "    )\n",
        "    self.weights_init()\n",
        "\n",
        "  def forward(self , img):\n",
        "    return self.model1(img)\n",
        "\n",
        "  def weights_init(self):\n",
        "    for m in self.modules():\n",
        "      if isinstance(m , nn.ConvTranspose2d):\n",
        "        torch.nn.init.normal_(m.weight , mean = 0 , std = 0.02)\n",
        "      elif isinstance(m , nn.BatchNorm2d):\n",
        "        torch.nn.init.normal_(m.weight , 0 , 0.02)\n",
        "        torch.nn.init.constant_(m.bias , 0)\n",
        " "
      ]
    },
    {
      "cell_type": "code",
      "execution_count": 17,
      "metadata": {
        "id": "fZILGvoIrLP1"
      },
      "outputs": [],
      "source": [
        "device =torch.device( 'cuda' if torch.cuda.is_available() else 'cpu')"
      ]
    },
    {
      "cell_type": "code",
      "execution_count": 18,
      "metadata": {
        "colab": {
          "base_uri": "https://localhost:8080/"
        },
        "id": "yKk-LsOdrMsT",
        "outputId": "5d911681-07eb-474b-ad52-506203056c1c"
      },
      "outputs": [
        {
          "data": {
            "text/plain": [
              "device(type='cpu')"
            ]
          },
          "execution_count": 18,
          "metadata": {},
          "output_type": "execute_result"
        }
      ],
      "source": [
        "device"
      ]
    },
    {
      "cell_type": "code",
      "execution_count": 19,
      "metadata": {
        "id": "G1T9HPyeqxhA"
      },
      "outputs": [],
      "source": [
        "# print(output_from_gen)\n",
        "netD = Discriminator(nc = 3, ndf = 64)\n",
        "netG = Generator(in_channel = 100 , out_channel = 1024)\n",
        "criterion = nn.BCELoss()\n",
        "lr = 0.0002\n",
        "beta1 = 0.5\n",
        "n_z = 100\n",
        "optimizerG = torch.optim.Adam(netG.parameters() , lr  = lr , betas = (beta1 , 0.999))\n",
        "optimizerD = torch.optim.Adam(netD.parameters() , lr = lr,  betas = (beta1 , 0.999))\n",
        "fixed_noise = torch.randn(64, n_z, 1, 1)"
      ]
    },
    {
      "cell_type": "code",
      "execution_count": 20,
      "metadata": {
        "colab": {
          "base_uri": "https://localhost:8080/"
        },
        "id": "0sIYHrfIUFcI",
        "outputId": "37274a7e-fa95-4e9d-8c88-c68a5a01d910"
      },
      "outputs": [
        {
          "name": "stdout",
          "output_type": "stream",
          "text": [
            "Generator(\n",
            "  (model2): Sequential(\n",
            "    (0): ConvTranspose2d(100, 1024, kernel_size=(4, 4), stride=(1, 1), bias=False)\n",
            "    (1): BatchNorm2d(1024, eps=1e-05, momentum=0.1, affine=True, track_running_stats=True)\n",
            "    (2): ReLU()\n",
            "    (3): ConvTranspose2d(1024, 512, kernel_size=(4, 4), stride=(2, 2), padding=(1, 1), bias=False)\n",
            "    (4): BatchNorm2d(512, eps=1e-05, momentum=0.1, affine=True, track_running_stats=True)\n",
            "    (5): ReLU()\n",
            "    (6): ConvTranspose2d(512, 256, kernel_size=(4, 4), stride=(2, 2), padding=(1, 1), bias=False)\n",
            "    (7): BatchNorm2d(256, eps=1e-05, momentum=0.1, affine=True, track_running_stats=True)\n",
            "    (8): ReLU()\n",
            "    (9): ConvTranspose2d(256, 128, kernel_size=(4, 4), stride=(2, 2), padding=(1, 1), bias=False)\n",
            "    (10): BatchNorm2d(128, eps=1e-05, momentum=0.1, affine=True, track_running_stats=True)\n",
            "    (11): ReLU()\n",
            "    (12): ConvTranspose2d(128, 3, kernel_size=(4, 4), stride=(2, 2), padding=(1, 1), bias=False)\n",
            "    (13): Tanh()\n",
            "  )\n",
            ")\n"
          ]
        }
      ],
      "source": [
        "print(netG)"
      ]
    },
    {
      "cell_type": "code",
      "execution_count": 21,
      "metadata": {
        "id": "pHwOHwHJqRjm"
      },
      "outputs": [],
      "source": [
        "import torchvision.utils as vutils"
      ]
    },
    {
      "cell_type": "markdown",
      "metadata": {
        "id": "O2bNFjEx1J7c"
      },
      "source": [
        "![picture](https://drive.google.com/uc?id=1aTyETR9yaTPS40Tt5rOgCbIXrMvkCqay)"
      ]
    },
    {
      "cell_type": "code",
      "execution_count": 22,
      "metadata": {
        "id": "VnefjgsZwURn"
      },
      "outputs": [],
      "source": [
        "# training a gan model\n",
        "\n",
        "D_loss = []\n",
        "G_loss = []\n",
        "\n",
        "num_epochs = 10\n",
        "\n",
        "# data --> (real ,_)\n",
        "for epoch in range(num_epochs):\n",
        "  for batch_index,(real,_) in enumerate(data_loader):\n",
        "    # real = real.view(-1,12288).to(device) ## flatten the image keeping the batch size intact\n",
        "    print(real.shape)\n",
        "    batch_size = real.shape[0]\n",
        "\n",
        "    # train disc --> max(log(D(real) + log(1-D(G(x))))\n",
        "\n",
        "    noise = torch.randn(batch_size , n_z).to(device)\n",
        "    noise = noise[:,:,None,None]\n",
        "    fake = netG(noise)\n",
        "    disc_real = netD(real).view(-1) # here we flattened the image\n",
        "    lossD_real = criterion(disc_real , torch.ones_like(disc_real))\n",
        "\n",
        "    # second term in the loss function of discriminator\n",
        "    disc_fake = netD(fake).view(-1)\n",
        "    lossD_fake = criterion(disc_fake , torch.zeros_like(disc_fake))\n",
        "\n",
        "    # combine both\n",
        "    lossD =(lossD_real + lossD_fake )/2\n",
        "    netD.zero_grad()\n",
        "    lossD.backward(retain_graph = True)\n",
        "    optimizerD.step()\n",
        "\n",
        "    # train gen --> min log(1-D(G(x))) ---  max(log(D(G(x))))\n",
        "    # rather than minimizing log (1-d(g(x))) which results in weak gradients and sometimes leads to no training --> weak training / vanishing grads \n",
        "\n",
        "    output = netD(fake).view(-1)\n",
        "    lossG = criterion(output , torch.ones_like(output))\n",
        "    netG.zero_grad()\n",
        "    lossG.backward()\n",
        "    optimizerG.step()\n",
        "\n",
        "    print(\"epoch is \" ,epoch , \" batch index is \" , batch_index, \" the loss of gen is \" , lossG , \" loss of disc is \" , lossD)\n"
      ]
    },
    {
      "cell_type": "markdown",
      "metadata": {
        "id": "u4bGyWp-c55t"
      },
      "source": [
        "![picture](https://drive.google.com/uc?id=1T-KzUNxCIhG_TfQ22SnN95G703srSlcW)"
      ]
    },
    {
      "cell_type": "markdown",
      "metadata": {
        "id": "Xun_8XmXmzyS"
      },
      "source": [
        "![picture](https://drive.google.com/uc?id=1oG90mJmfj06zs4GLzbKMuPRwNGcK1X-T)"
      ]
    },
    {
      "cell_type": "markdown",
      "metadata": {
        "id": "FsuFYXMXneeR"
      },
      "source": [
        "![picture](https://drive.google.com/uc?id=1EFezWaavBOAsV7k5eU_u3VNfT5UBFRKN)"
      ]
    }
  ],
  "metadata": {
    "colab": {
      "collapsed_sections": [
        "LmFeMxd2pfuI",
        "GRBNZDC05JhL"
      ],
      "provenance": []
    },
    "gpuClass": "standard",
    "kernelspec": {
      "display_name": "Python 3",
      "name": "python3"
    },
    "language_info": {
      "name": "python"
    },
    "widgets": {
      "application/vnd.jupyter.widget-state+json": {
        "19adecfe171f4941b5e962cb498ca5ad": {
          "model_module": "@jupyter-widgets/base",
          "model_module_version": "1.2.0",
          "model_name": "LayoutModel",
          "state": {
            "_model_module": "@jupyter-widgets/base",
            "_model_module_version": "1.2.0",
            "_model_name": "LayoutModel",
            "_view_count": null,
            "_view_module": "@jupyter-widgets/base",
            "_view_module_version": "1.2.0",
            "_view_name": "LayoutView",
            "align_content": null,
            "align_items": null,
            "align_self": null,
            "border": null,
            "bottom": null,
            "display": null,
            "flex": null,
            "flex_flow": null,
            "grid_area": null,
            "grid_auto_columns": null,
            "grid_auto_flow": null,
            "grid_auto_rows": null,
            "grid_column": null,
            "grid_gap": null,
            "grid_row": null,
            "grid_template_areas": null,
            "grid_template_columns": null,
            "grid_template_rows": null,
            "height": null,
            "justify_content": null,
            "justify_items": null,
            "left": null,
            "margin": null,
            "max_height": null,
            "max_width": null,
            "min_height": null,
            "min_width": null,
            "object_fit": null,
            "object_position": null,
            "order": null,
            "overflow": null,
            "overflow_x": null,
            "overflow_y": null,
            "padding": null,
            "right": null,
            "top": null,
            "visibility": null,
            "width": null
          }
        },
        "1a2e08fc50384f118930a4d7882ef1da": {
          "model_module": "@jupyter-widgets/controls",
          "model_module_version": "1.5.0",
          "model_name": "ProgressStyleModel",
          "state": {
            "_model_module": "@jupyter-widgets/controls",
            "_model_module_version": "1.5.0",
            "_model_name": "ProgressStyleModel",
            "_view_count": null,
            "_view_module": "@jupyter-widgets/base",
            "_view_module_version": "1.2.0",
            "_view_name": "StyleView",
            "bar_color": null,
            "description_width": ""
          }
        },
        "641d639a099f46cda2c817463e4132cf": {
          "model_module": "@jupyter-widgets/controls",
          "model_module_version": "1.5.0",
          "model_name": "HBoxModel",
          "state": {
            "_dom_classes": [],
            "_model_module": "@jupyter-widgets/controls",
            "_model_module_version": "1.5.0",
            "_model_name": "HBoxModel",
            "_view_count": null,
            "_view_module": "@jupyter-widgets/controls",
            "_view_module_version": "1.5.0",
            "_view_name": "HBoxView",
            "box_style": "",
            "children": [
              "IPY_MODEL_ebd1f1a99da54c3aa9c8c66b8ead4bcc",
              "IPY_MODEL_b16a69db6df14cd3aaf246446dca5dca",
              "IPY_MODEL_dc630f8d0ac8474396e48da05d135ce1"
            ],
            "layout": "IPY_MODEL_19adecfe171f4941b5e962cb498ca5ad"
          }
        },
        "79242dffa3954b41861fd57b0f3e1a44": {
          "model_module": "@jupyter-widgets/base",
          "model_module_version": "1.2.0",
          "model_name": "LayoutModel",
          "state": {
            "_model_module": "@jupyter-widgets/base",
            "_model_module_version": "1.2.0",
            "_model_name": "LayoutModel",
            "_view_count": null,
            "_view_module": "@jupyter-widgets/base",
            "_view_module_version": "1.2.0",
            "_view_name": "LayoutView",
            "align_content": null,
            "align_items": null,
            "align_self": null,
            "border": null,
            "bottom": null,
            "display": null,
            "flex": null,
            "flex_flow": null,
            "grid_area": null,
            "grid_auto_columns": null,
            "grid_auto_flow": null,
            "grid_auto_rows": null,
            "grid_column": null,
            "grid_gap": null,
            "grid_row": null,
            "grid_template_areas": null,
            "grid_template_columns": null,
            "grid_template_rows": null,
            "height": null,
            "justify_content": null,
            "justify_items": null,
            "left": null,
            "margin": null,
            "max_height": null,
            "max_width": null,
            "min_height": null,
            "min_width": null,
            "object_fit": null,
            "object_position": null,
            "order": null,
            "overflow": null,
            "overflow_x": null,
            "overflow_y": null,
            "padding": null,
            "right": null,
            "top": null,
            "visibility": null,
            "width": null
          }
        },
        "93a6e9dcd10e4a4e931fd003d9490951": {
          "model_module": "@jupyter-widgets/base",
          "model_module_version": "1.2.0",
          "model_name": "LayoutModel",
          "state": {
            "_model_module": "@jupyter-widgets/base",
            "_model_module_version": "1.2.0",
            "_model_name": "LayoutModel",
            "_view_count": null,
            "_view_module": "@jupyter-widgets/base",
            "_view_module_version": "1.2.0",
            "_view_name": "LayoutView",
            "align_content": null,
            "align_items": null,
            "align_self": null,
            "border": null,
            "bottom": null,
            "display": null,
            "flex": null,
            "flex_flow": null,
            "grid_area": null,
            "grid_auto_columns": null,
            "grid_auto_flow": null,
            "grid_auto_rows": null,
            "grid_column": null,
            "grid_gap": null,
            "grid_row": null,
            "grid_template_areas": null,
            "grid_template_columns": null,
            "grid_template_rows": null,
            "height": null,
            "justify_content": null,
            "justify_items": null,
            "left": null,
            "margin": null,
            "max_height": null,
            "max_width": null,
            "min_height": null,
            "min_width": null,
            "object_fit": null,
            "object_position": null,
            "order": null,
            "overflow": null,
            "overflow_x": null,
            "overflow_y": null,
            "padding": null,
            "right": null,
            "top": null,
            "visibility": null,
            "width": null
          }
        },
        "a13bf17c0e884dba876cca696fcc0cd0": {
          "model_module": "@jupyter-widgets/controls",
          "model_module_version": "1.5.0",
          "model_name": "DescriptionStyleModel",
          "state": {
            "_model_module": "@jupyter-widgets/controls",
            "_model_module_version": "1.5.0",
            "_model_name": "DescriptionStyleModel",
            "_view_count": null,
            "_view_module": "@jupyter-widgets/base",
            "_view_module_version": "1.2.0",
            "_view_name": "StyleView",
            "description_width": ""
          }
        },
        "a7c41b1b98604e68b2753a84e7924fce": {
          "model_module": "@jupyter-widgets/controls",
          "model_module_version": "1.5.0",
          "model_name": "DescriptionStyleModel",
          "state": {
            "_model_module": "@jupyter-widgets/controls",
            "_model_module_version": "1.5.0",
            "_model_name": "DescriptionStyleModel",
            "_view_count": null,
            "_view_module": "@jupyter-widgets/base",
            "_view_module_version": "1.2.0",
            "_view_name": "StyleView",
            "description_width": ""
          }
        },
        "b16a69db6df14cd3aaf246446dca5dca": {
          "model_module": "@jupyter-widgets/controls",
          "model_module_version": "1.5.0",
          "model_name": "FloatProgressModel",
          "state": {
            "_dom_classes": [],
            "_model_module": "@jupyter-widgets/controls",
            "_model_module_version": "1.5.0",
            "_model_name": "FloatProgressModel",
            "_view_count": null,
            "_view_module": "@jupyter-widgets/controls",
            "_view_module_version": "1.5.0",
            "_view_name": "ProgressView",
            "bar_style": "success",
            "description": "",
            "description_tooltip": null,
            "layout": "IPY_MODEL_79242dffa3954b41861fd57b0f3e1a44",
            "max": 170498071,
            "min": 0,
            "orientation": "horizontal",
            "style": "IPY_MODEL_1a2e08fc50384f118930a4d7882ef1da",
            "value": 170498071
          }
        },
        "bd629b3e277643989126276c0ac0d3dd": {
          "model_module": "@jupyter-widgets/base",
          "model_module_version": "1.2.0",
          "model_name": "LayoutModel",
          "state": {
            "_model_module": "@jupyter-widgets/base",
            "_model_module_version": "1.2.0",
            "_model_name": "LayoutModel",
            "_view_count": null,
            "_view_module": "@jupyter-widgets/base",
            "_view_module_version": "1.2.0",
            "_view_name": "LayoutView",
            "align_content": null,
            "align_items": null,
            "align_self": null,
            "border": null,
            "bottom": null,
            "display": null,
            "flex": null,
            "flex_flow": null,
            "grid_area": null,
            "grid_auto_columns": null,
            "grid_auto_flow": null,
            "grid_auto_rows": null,
            "grid_column": null,
            "grid_gap": null,
            "grid_row": null,
            "grid_template_areas": null,
            "grid_template_columns": null,
            "grid_template_rows": null,
            "height": null,
            "justify_content": null,
            "justify_items": null,
            "left": null,
            "margin": null,
            "max_height": null,
            "max_width": null,
            "min_height": null,
            "min_width": null,
            "object_fit": null,
            "object_position": null,
            "order": null,
            "overflow": null,
            "overflow_x": null,
            "overflow_y": null,
            "padding": null,
            "right": null,
            "top": null,
            "visibility": null,
            "width": null
          }
        },
        "dc630f8d0ac8474396e48da05d135ce1": {
          "model_module": "@jupyter-widgets/controls",
          "model_module_version": "1.5.0",
          "model_name": "HTMLModel",
          "state": {
            "_dom_classes": [],
            "_model_module": "@jupyter-widgets/controls",
            "_model_module_version": "1.5.0",
            "_model_name": "HTMLModel",
            "_view_count": null,
            "_view_module": "@jupyter-widgets/controls",
            "_view_module_version": "1.5.0",
            "_view_name": "HTMLView",
            "description": "",
            "description_tooltip": null,
            "layout": "IPY_MODEL_93a6e9dcd10e4a4e931fd003d9490951",
            "placeholder": "​",
            "style": "IPY_MODEL_a7c41b1b98604e68b2753a84e7924fce",
            "value": " 170498071/170498071 [00:06&lt;00:00, 28271972.16it/s]"
          }
        },
        "ebd1f1a99da54c3aa9c8c66b8ead4bcc": {
          "model_module": "@jupyter-widgets/controls",
          "model_module_version": "1.5.0",
          "model_name": "HTMLModel",
          "state": {
            "_dom_classes": [],
            "_model_module": "@jupyter-widgets/controls",
            "_model_module_version": "1.5.0",
            "_model_name": "HTMLModel",
            "_view_count": null,
            "_view_module": "@jupyter-widgets/controls",
            "_view_module_version": "1.5.0",
            "_view_name": "HTMLView",
            "description": "",
            "description_tooltip": null,
            "layout": "IPY_MODEL_bd629b3e277643989126276c0ac0d3dd",
            "placeholder": "​",
            "style": "IPY_MODEL_a13bf17c0e884dba876cca696fcc0cd0",
            "value": "100%"
          }
        }
      }
    }
  },
  "nbformat": 4,
  "nbformat_minor": 0
}
